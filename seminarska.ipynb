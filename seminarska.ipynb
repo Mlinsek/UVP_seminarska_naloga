{
 "cells": [
  {
   "cell_type": "markdown",
   "metadata": {},
   "source": [
    "# Analiza progresije teka na 100m\n",
    "\n",
    "![Usain Bolt in Tekmeci](./b2c5ed7855381d37df5c.jpeg)\n",
    "\n",
    "Slika 1: Zaključek teka na 100m na olimpijskih igrah.\n",
    "\n",
    "## Uvod\n",
    "\n",
    "V tej seminarski nalogi bomo podrobneje preučili rezultate preteklih šprinterskih preizkušenj. \n",
    "Skozi analizo podatkov bomo poskušali ugotoviti, kateri ključni elementi prispevajo k izboljšanju \n",
    "svetovnega rekorda na 100 metrov.\n",
    "\n",
    "\n",
    "Natančneje:\n",
    "\n",
    "1. **Progresijo svetovnega rekorda**: \n",
    "   Analizirali bomo, kako so se svetovni rekordi na 100m \n",
    "   skozi desetletja izboljševali. Osredotočili se bomo \n",
    "   le na nekaj merljivih podatkov\n",
    "\n",
    "2. **Geografska analiza športnikov**: \n",
    "   Raziskali bomo, iz katerih delov sveta prihajajo najboljši atleti \n",
    "   in ali obstaja kakšna povezava med regijo ter uspešnostjo \n",
    "   na 100-metrski tekmi.\n",
    "\n",
    "## Analiza podatkov\n",
    "\n",
    "Za začetek si oglejmo preprosto progresijo svetovnega \n",
    "rekorda v šprintu na 100 metrov. Zgodovina te discipline \n",
    "nam kaže, da se svetovni rekord stalno izboljšuje, kar \n",
    "ne more biti zgolj naključje. Gre za dosleden trend, \n",
    "ki je posledica različnih dejavnikov, ki vplivajo na \n",
    "športnikovo zmogljivost.\n",
    "\n",
    "Od prvih rekordov, postavljenih na začetku 20. stoletja, \n",
    "pa vse do danes, se opazi stalno premikanje meja \n",
    "človeške hitrosti.\n",
    "\n",
    "To nas vodi do ključnega vprašanja: Kaj so glavni dejavniki, \n",
    "ki prispevajo k tem izboljšavam? Ali gre zgolj za napredek \n",
    "v treniranju, ali so v igri tudi tehnološke inovacije? \n",
    "Morda imajo pomembno vlogo tudi fiziološke in genetske \n",
    "predispozicije športnikov, pa tudi izboljšanje infrastrukture \n",
    "in pogojev za trening.\n",
    "\n",
    "Kakšna je vloga psihološke priprave, prehrane in rehabilitacije? \n",
    "Vse to so pomembna vprašanja, na katera bomo skušali \n",
    "odgovoriti v nadaljevanju analize.\n"
   ]
  },
  {
   "cell_type": "markdown",
   "metadata": {},
   "source": [
    "![Časi najboljših šprinterjev na 100m](./sprint_times_bar_chart.png)\n",
    "\n",
    "Slika 2: Graf prikazuje čase najboljših šprinterjev na 100m"
   ]
  },
  {
   "cell_type": "markdown",
   "metadata": {},
   "source": [
    "## Narodnosti\n",
    "\n",
    "V šprintu na 100 metrov so nekateri narodi skozi zgodovino dosegli izjemne uspehe in postali sinonim za vrhunske rezultate. \n",
    "Zanimivo je raziskati, ali obstaja povezava med nacionalnostjo atletov in njihovimi rekordi. \n",
    "S tem bomo skušali ugotoviti, kateri dejavniki v določenih državah prispevajo k razvoju šampionov in kako se ti dejavniki odražajo v svetovnih rekordih."
   ]
  },
  {
   "cell_type": "markdown",
   "metadata": {},
   "source": []
  }
 ],
 "metadata": {
  "kernelspec": {
   "display_name": "Python 3",
   "language": "python",
   "name": "python3"
  },
  "language_info": {
   "codemirror_mode": {
    "name": "ipython",
    "version": 3
   },
   "file_extension": ".py",
   "mimetype": "text/x-python",
   "name": "python",
   "nbconvert_exporter": "python",
   "pygments_lexer": "ipython3",
   "version": "3.10.2"
  }
 },
 "nbformat": 4,
 "nbformat_minor": 2
}
